{
  "nbformat": 4,
  "nbformat_minor": 0,
  "metadata": {
    "colab": {
      "provenance": [],
      "authorship_tag": "ABX9TyPo84mRQFJECeddqLhnmb2k",
      "include_colab_link": true
    },
    "kernelspec": {
      "name": "python3",
      "display_name": "Python 3"
    },
    "language_info": {
      "name": "python"
    }
  },
  "cells": [
    {
      "cell_type": "markdown",
      "metadata": {
        "id": "view-in-github",
        "colab_type": "text"
      },
      "source": [
        "<a href=\"https://colab.research.google.com/github/rogeliovc/Laberinto-phyton/blob/main/Avance1.ipynb\" target=\"_parent\"><img src=\"https://colab.research.google.com/assets/colab-badge.svg\" alt=\"Open In Colab\"/></a>"
      ]
    },
    {
      "cell_type": "code",
      "execution_count": null,
      "metadata": {
        "id": "wL8jdrYKv2XP"
      },
      "outputs": [],
      "source": [
        "# Definir un laberinto simple de 6x6\n",
        "# 0 = camino, 1 = pared, 2 = salida, 3 = teletransportador A, 4 = teletransportador B, 111 = celda con acertijo\n",
        "laberinto = [\n",
        "    [0, 1, 1, 1, 1, 1],\n",
        "    [0, 0, 1, 3, 1, 1],\n",
        "    [1, 0, 1, 0, 0, 2],\n",
        "    [1, 0, 0, 0, 1, 1],\n",
        "    [1, 1, 111, 1, 1, 1],\n",
        "    [1, 1, 4, 0, 0, 1]\n",
        "]\n",
        "\n",
        "# Mostrar el laberinto\n",
        "def mostrar_laberinto(lab):\n",
        "    for fila in lab:\n",
        "        print(fila)\n",
        "\n",
        "print(\"Laberinto inicial:\")\n",
        "mostrar_laberinto(laberinto)\n",
        "\n",
        "# Función para teletransportar al jugador si cae en la celda 3 o 4\n",
        "def teletransportar(pos):\n",
        "    x, y = pos\n",
        "    if laberinto[x][y] == 3:\n",
        "        print(\"Teletransportando de celda 3 a 4...\")\n",
        "        return (5, 2)  # Coordenadas del teletransporte 4\n",
        "    elif laberinto[x][y] == 4:\n",
        "        print(\"Teletransportando de celda 4 a 3...\")\n",
        "        return (1, 3)  # Coordenadas del teletransporte 3\n",
        "    return pos\n",
        "\n",
        "# Función simple para mover al jugador en el laberinto\n",
        "def moverse(lab, pos, movimiento):\n",
        "    x, y = pos\n",
        "    if movimiento == 'abajo' and x + 1 < len(lab) and lab[x + 1][y] != 1:\n",
        "        return teletransportar((x + 1, y))\n",
        "    elif movimiento == 'arriba' and x - 1 >= 0 and lab[x - 1][y] != 1:\n",
        "        return teletransportar((x - 1, y))\n",
        "    elif movimiento == 'derecha' and y + 1 < len(lab[0]) and lab[x][y + 1] != 1:\n",
        "        return teletransportar((x, y + 1))\n",
        "    elif movimiento == 'izquierda' and y - 1 >= 0 and lab[x][y - 1] != 1:\n",
        "        return teletransportar((x, y - 1))\n",
        "    else:\n",
        "        print(\"Movimiento no válido.\")\n",
        "        return pos\n",
        "\n",
        "# Simulación de un movimiento básico\n",
        "posicion = (0, 0)\n",
        "print(f\"Posición inicial: {posicion}\")\n",
        "\n",
        "# Movimiento simulado: 'abajo', 'derecha', etc.\n",
        "movimientos = ['abajo', 'abajo', 'derecha', 'derecha', 'abajo']\n",
        "for mov in movimientos:\n",
        "    posicion = moverse(laberinto, posicion, mov)\n",
        "    print(f\"Moviendo {mov}. Nueva posición: {posicion}\")\n",
        "\n",
        "# Si llegamos a la salida\n",
        "if laberinto[posicion[0]][posicion[1]] == 2:\n",
        "    print(\"¡Has llegado a la salida!\")\n",
        "else:\n",
        "    print(\"Aún no has llegado a la salida.\")\n"
      ]
    }
  ]
}